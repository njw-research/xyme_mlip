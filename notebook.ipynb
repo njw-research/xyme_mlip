{
 "cells": [
  {
   "cell_type": "code",
   "execution_count": 26,
   "metadata": {},
   "outputs": [],
   "source": [
    "# Import standard libraries\n",
    "import jax\n",
    "import haiku as hk\n",
    "import haiku.experimental.flax as hkflax\n",
    "import jax.numpy as jnp\n",
    "from src.utils.containers import Graph\n",
    "from src.mlip.message_passing import MessagePassing\n",
    "from src.run.base import param_count\n",
    "\n",
    "key = jax.random.PRNGKey(0)\n",
    "\n",
    "# Initialize message passing\n",
    "message_passing = MessagePassing(\n",
    "    features=4,\n",
    "    max_degree=0,\n",
    "    num_iterations=1,\n",
    "    num_basis_functions=4,\n",
    "    cutoff=3.0,\n",
    "    max_atomic_number=9\n",
    ")\n",
    "\n",
    "# Define energy and forces function \n",
    "@hk.without_apply_rng\n",
    "@hk.transform\n",
    "def energy_and_forces(graph: Graph):\n",
    "    mod = hkflax.lift(message_passing, name='e3x_mlip')\n",
    "    return mod(graph.features, graph.positions)\n",
    "\n",
    "\n",
    "# Create graph \n",
    "graph = Graph(\n",
    "    features=jnp.ones((1, 1, 3), dtype=jnp.uint8),\n",
    "    positions= jax.random.uniform(jax.random.PRNGKey(0), (3, 3))\n",
    "    )\n",
    "\n",
    "params = energy_and_forces.init(key, graph)\n",
    "energy, forces = energy_and_forces.apply(params, graph)\n",
    "\n"
   ]
  },
  {
   "cell_type": "code",
   "execution_count": 27,
   "metadata": {},
   "outputs": [
    {
     "data": {
      "text/plain": [
       "114"
      ]
     },
     "execution_count": 27,
     "metadata": {},
     "output_type": "execute_result"
    }
   ],
   "source": [
    "param_count(params)"
   ]
  },
  {
   "cell_type": "code",
   "execution_count": null,
   "metadata": {},
   "outputs": [],
   "source": []
  }
 ],
 "metadata": {
  "kernelspec": {
   "display_name": ".venv",
   "language": "python",
   "name": "python3"
  },
  "language_info": {
   "codemirror_mode": {
    "name": "ipython",
    "version": 3
   },
   "file_extension": ".py",
   "mimetype": "text/x-python",
   "name": "python",
   "nbconvert_exporter": "python",
   "pygments_lexer": "ipython3",
   "version": "3.13.1"
  }
 },
 "nbformat": 4,
 "nbformat_minor": 2
}
